{
 "cells": [
  {
   "cell_type": "markdown",
   "id": "9601fddb",
   "metadata": {},
   "source": [
    "# Frame the Problem and Look at the Big Picture\n",
    "This is a purely textual Jupyter Notebook meant to outline major goals"
   ]
  },
  {
   "cell_type": "markdown",
   "id": "ad01d9e7",
   "metadata": {},
   "source": [
    "## Define the Objective in business terms\n",
    "We want to be able to actively price new houses that enter the market in the Ames Iowa area. We would like to explain factors that contribute the most to housing prices "
   ]
  },
  {
   "cell_type": "markdown",
   "id": "557f717a",
   "metadata": {},
   "source": [
    "## How will your Solution be Used\n",
    "Our solution will be used to price new houses that enter the market and to figure out the most cost-effective strategies one can take to improving the value of a home. For example, remodeling, converting rooms etc."
   ]
  },
  {
   "cell_type": "markdown",
   "id": "0d0c866a",
   "metadata": {},
   "source": [
    "## How should this problem be framed\n",
    "The most natural way to frame this is as an offline supervised learning problem where we train an ML algorithm on a bunch of data first and then use it to make predictions.\n",
    "\n",
    "We can also attempt to do this as an online machine learning problem in which we feed a stream of houses in which the prediction changes with each house.\n",
    "\n",
    "We can do an unsupervised learning study to figure out clusters of house values and see the effect of recessions/etc in that time."
   ]
  },
  {
   "cell_type": "markdown",
   "id": "c7f4387a",
   "metadata": {},
   "source": [
    "## How should performance be measured?\n",
    "The project will be tested with RMSE(Root-Mean-Squared-Error) between the logarithm of the presented value and the logarithm of the observed sales price. This penalizes cheap houses and expensive houses easily. We can try other types of performance measures that might penalize being cheap or expensive differently"
   ]
  },
  {
   "cell_type": "markdown",
   "id": "68bff415",
   "metadata": {},
   "source": [
    "## What are comparable problems?\n",
    "Other types of regression/prediction problems. We can carry over many of the skills we learn for pricing all sorts of other things base on qualitative and quantitative data"
   ]
  },
  {
   "cell_type": "code",
   "execution_count": null,
   "id": "078675d8",
   "metadata": {},
   "outputs": [],
   "source": []
  }
 ],
 "metadata": {
  "kernelspec": {
   "display_name": "Python 3",
   "language": "python",
   "name": "python3"
  },
  "language_info": {
   "codemirror_mode": {
    "name": "ipython",
    "version": 3
   },
   "file_extension": ".py",
   "mimetype": "text/x-python",
   "name": "python",
   "nbconvert_exporter": "python",
   "pygments_lexer": "ipython3",
   "version": "3.8.8"
  }
 },
 "nbformat": 4,
 "nbformat_minor": 5
}
