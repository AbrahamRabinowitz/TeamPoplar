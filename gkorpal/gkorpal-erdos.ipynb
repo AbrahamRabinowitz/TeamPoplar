{
 "cells": [
  {
   "cell_type": "code",
   "execution_count": 1,
   "id": "e375358e",
   "metadata": {
    "_cell_guid": "b1076dfc-b9ad-4769-8c92-a6c4dae69d19",
    "_uuid": "8f2839f25d086af736a60e9eeb907d3b93b6e0e5",
    "execution": {
     "iopub.execute_input": "2022-11-05T19:53:18.170756Z",
     "iopub.status.busy": "2022-11-05T19:53:18.169215Z",
     "iopub.status.idle": "2022-11-05T19:53:19.425532Z",
     "shell.execute_reply": "2022-11-05T19:53:19.424181Z"
    },
    "papermill": {
     "duration": 1.267845,
     "end_time": "2022-11-05T19:53:19.429530",
     "exception": false,
     "start_time": "2022-11-05T19:53:18.161685",
     "status": "completed"
    },
    "tags": []
   },
   "outputs": [
    {
     "name": "stdout",
     "output_type": "stream",
     "text": [
      "/kaggle/input/house-prices-advanced-regression-techniques/sample_submission.csv\n",
      "/kaggle/input/house-prices-advanced-regression-techniques/data_description.txt\n",
      "/kaggle/input/house-prices-advanced-regression-techniques/train.csv\n",
      "/kaggle/input/house-prices-advanced-regression-techniques/test.csv\n"
     ]
    }
   ],
   "source": [
    "# This Python 3 environment comes with many helpful analytics libraries installed\n",
    "# It is defined by the kaggle/python Docker image: https://github.com/kaggle/docker-python\n",
    "# For example, here's several helpful packages to load\n",
    "\n",
    "import numpy as np # linear algebra\n",
    "import pandas as pd # data processing, CSV file I/O (e.g. pd.read_csv)\n",
    "import matplotlib.pyplot as plt\n",
    "import seaborn as sns\n",
    "sns.set_theme()\n",
    "\n",
    "# Input data files are available in the read-only \"../input/\" directory\n",
    "# For example, running this (by clicking run or pressing Shift+Enter) will list all files under the input directory\n",
    "\n",
    "import os\n",
    "for dirname, _, filenames in os.walk('/kaggle/input'):\n",
    "    for filename in filenames:\n",
    "        print(os.path.join(dirname, filename))\n",
    "\n",
    "# You can write up to 20GB to the current directory (/kaggle/working/) that gets preserved as output when you create a version using \"Save & Run All\" \n",
    "# You can also write temporary files to /kaggle/temp/, but they won't be saved outside of the current session"
   ]
  },
  {
   "cell_type": "code",
   "execution_count": 2,
   "id": "1ba12a28",
   "metadata": {
    "execution": {
     "iopub.execute_input": "2022-11-05T19:53:19.442731Z",
     "iopub.status.busy": "2022-11-05T19:53:19.440672Z",
     "iopub.status.idle": "2022-11-05T19:53:19.493550Z",
     "shell.execute_reply": "2022-11-05T19:53:19.492193Z"
    },
    "papermill": {
     "duration": 0.061593,
     "end_time": "2022-11-05T19:53:19.496477",
     "exception": false,
     "start_time": "2022-11-05T19:53:19.434884",
     "status": "completed"
    },
    "tags": []
   },
   "outputs": [],
   "source": [
    "# Data Collection/3. Data Competition Sites\n",
    "htrain = pd.read_csv('../input/house-prices-advanced-regression-techniques/train.csv')"
   ]
  },
  {
   "cell_type": "code",
   "execution_count": 3,
   "id": "537eed63",
   "metadata": {
    "execution": {
     "iopub.execute_input": "2022-11-05T19:53:19.507731Z",
     "iopub.status.busy": "2022-11-05T19:53:19.507299Z",
     "iopub.status.idle": "2022-11-05T19:53:19.548326Z",
     "shell.execute_reply": "2022-11-05T19:53:19.547422Z"
    },
    "papermill": {
     "duration": 0.049285,
     "end_time": "2022-11-05T19:53:19.550495",
     "exception": false,
     "start_time": "2022-11-05T19:53:19.501210",
     "status": "completed"
    },
    "tags": []
   },
   "outputs": [
    {
     "data": {
      "text/html": [
       "<div>\n",
       "<style scoped>\n",
       "    .dataframe tbody tr th:only-of-type {\n",
       "        vertical-align: middle;\n",
       "    }\n",
       "\n",
       "    .dataframe tbody tr th {\n",
       "        vertical-align: top;\n",
       "    }\n",
       "\n",
       "    .dataframe thead th {\n",
       "        text-align: right;\n",
       "    }\n",
       "</style>\n",
       "<table border=\"1\" class=\"dataframe\">\n",
       "  <thead>\n",
       "    <tr style=\"text-align: right;\">\n",
       "      <th></th>\n",
       "      <th>Id</th>\n",
       "      <th>MSSubClass</th>\n",
       "      <th>MSZoning</th>\n",
       "      <th>LotFrontage</th>\n",
       "      <th>LotArea</th>\n",
       "      <th>Street</th>\n",
       "      <th>Alley</th>\n",
       "      <th>LotShape</th>\n",
       "      <th>LandContour</th>\n",
       "      <th>Utilities</th>\n",
       "      <th>...</th>\n",
       "      <th>PoolArea</th>\n",
       "      <th>PoolQC</th>\n",
       "      <th>Fence</th>\n",
       "      <th>MiscFeature</th>\n",
       "      <th>MiscVal</th>\n",
       "      <th>MoSold</th>\n",
       "      <th>YrSold</th>\n",
       "      <th>SaleType</th>\n",
       "      <th>SaleCondition</th>\n",
       "      <th>SalePrice</th>\n",
       "    </tr>\n",
       "  </thead>\n",
       "  <tbody>\n",
       "    <tr>\n",
       "      <th>0</th>\n",
       "      <td>1</td>\n",
       "      <td>60</td>\n",
       "      <td>RL</td>\n",
       "      <td>65.0</td>\n",
       "      <td>8450</td>\n",
       "      <td>Pave</td>\n",
       "      <td>NaN</td>\n",
       "      <td>Reg</td>\n",
       "      <td>Lvl</td>\n",
       "      <td>AllPub</td>\n",
       "      <td>...</td>\n",
       "      <td>0</td>\n",
       "      <td>NaN</td>\n",
       "      <td>NaN</td>\n",
       "      <td>NaN</td>\n",
       "      <td>0</td>\n",
       "      <td>2</td>\n",
       "      <td>2008</td>\n",
       "      <td>WD</td>\n",
       "      <td>Normal</td>\n",
       "      <td>208500</td>\n",
       "    </tr>\n",
       "    <tr>\n",
       "      <th>1</th>\n",
       "      <td>2</td>\n",
       "      <td>20</td>\n",
       "      <td>RL</td>\n",
       "      <td>80.0</td>\n",
       "      <td>9600</td>\n",
       "      <td>Pave</td>\n",
       "      <td>NaN</td>\n",
       "      <td>Reg</td>\n",
       "      <td>Lvl</td>\n",
       "      <td>AllPub</td>\n",
       "      <td>...</td>\n",
       "      <td>0</td>\n",
       "      <td>NaN</td>\n",
       "      <td>NaN</td>\n",
       "      <td>NaN</td>\n",
       "      <td>0</td>\n",
       "      <td>5</td>\n",
       "      <td>2007</td>\n",
       "      <td>WD</td>\n",
       "      <td>Normal</td>\n",
       "      <td>181500</td>\n",
       "    </tr>\n",
       "    <tr>\n",
       "      <th>2</th>\n",
       "      <td>3</td>\n",
       "      <td>60</td>\n",
       "      <td>RL</td>\n",
       "      <td>68.0</td>\n",
       "      <td>11250</td>\n",
       "      <td>Pave</td>\n",
       "      <td>NaN</td>\n",
       "      <td>IR1</td>\n",
       "      <td>Lvl</td>\n",
       "      <td>AllPub</td>\n",
       "      <td>...</td>\n",
       "      <td>0</td>\n",
       "      <td>NaN</td>\n",
       "      <td>NaN</td>\n",
       "      <td>NaN</td>\n",
       "      <td>0</td>\n",
       "      <td>9</td>\n",
       "      <td>2008</td>\n",
       "      <td>WD</td>\n",
       "      <td>Normal</td>\n",
       "      <td>223500</td>\n",
       "    </tr>\n",
       "    <tr>\n",
       "      <th>3</th>\n",
       "      <td>4</td>\n",
       "      <td>70</td>\n",
       "      <td>RL</td>\n",
       "      <td>60.0</td>\n",
       "      <td>9550</td>\n",
       "      <td>Pave</td>\n",
       "      <td>NaN</td>\n",
       "      <td>IR1</td>\n",
       "      <td>Lvl</td>\n",
       "      <td>AllPub</td>\n",
       "      <td>...</td>\n",
       "      <td>0</td>\n",
       "      <td>NaN</td>\n",
       "      <td>NaN</td>\n",
       "      <td>NaN</td>\n",
       "      <td>0</td>\n",
       "      <td>2</td>\n",
       "      <td>2006</td>\n",
       "      <td>WD</td>\n",
       "      <td>Abnorml</td>\n",
       "      <td>140000</td>\n",
       "    </tr>\n",
       "    <tr>\n",
       "      <th>4</th>\n",
       "      <td>5</td>\n",
       "      <td>60</td>\n",
       "      <td>RL</td>\n",
       "      <td>84.0</td>\n",
       "      <td>14260</td>\n",
       "      <td>Pave</td>\n",
       "      <td>NaN</td>\n",
       "      <td>IR1</td>\n",
       "      <td>Lvl</td>\n",
       "      <td>AllPub</td>\n",
       "      <td>...</td>\n",
       "      <td>0</td>\n",
       "      <td>NaN</td>\n",
       "      <td>NaN</td>\n",
       "      <td>NaN</td>\n",
       "      <td>0</td>\n",
       "      <td>12</td>\n",
       "      <td>2008</td>\n",
       "      <td>WD</td>\n",
       "      <td>Normal</td>\n",
       "      <td>250000</td>\n",
       "    </tr>\n",
       "  </tbody>\n",
       "</table>\n",
       "<p>5 rows × 81 columns</p>\n",
       "</div>"
      ],
      "text/plain": [
       "   Id  MSSubClass MSZoning  LotFrontage  LotArea Street Alley LotShape  \\\n",
       "0   1          60       RL         65.0     8450   Pave   NaN      Reg   \n",
       "1   2          20       RL         80.0     9600   Pave   NaN      Reg   \n",
       "2   3          60       RL         68.0    11250   Pave   NaN      IR1   \n",
       "3   4          70       RL         60.0     9550   Pave   NaN      IR1   \n",
       "4   5          60       RL         84.0    14260   Pave   NaN      IR1   \n",
       "\n",
       "  LandContour Utilities  ... PoolArea PoolQC Fence MiscFeature MiscVal MoSold  \\\n",
       "0         Lvl    AllPub  ...        0    NaN   NaN         NaN       0      2   \n",
       "1         Lvl    AllPub  ...        0    NaN   NaN         NaN       0      5   \n",
       "2         Lvl    AllPub  ...        0    NaN   NaN         NaN       0      9   \n",
       "3         Lvl    AllPub  ...        0    NaN   NaN         NaN       0      2   \n",
       "4         Lvl    AllPub  ...        0    NaN   NaN         NaN       0     12   \n",
       "\n",
       "  YrSold  SaleType  SaleCondition  SalePrice  \n",
       "0   2008        WD         Normal     208500  \n",
       "1   2007        WD         Normal     181500  \n",
       "2   2008        WD         Normal     223500  \n",
       "3   2006        WD        Abnorml     140000  \n",
       "4   2008        WD         Normal     250000  \n",
       "\n",
       "[5 rows x 81 columns]"
      ]
     },
     "execution_count": 3,
     "metadata": {},
     "output_type": "execute_result"
    }
   ],
   "source": [
    "# Fall Problem Sessions/Fall Problem Session 2 \n",
    "htrain.head()"
   ]
  },
  {
   "cell_type": "code",
   "execution_count": 4,
   "id": "b3c9b5a4",
   "metadata": {
    "execution": {
     "iopub.execute_input": "2022-11-05T19:53:19.562824Z",
     "iopub.status.busy": "2022-11-05T19:53:19.561515Z",
     "iopub.status.idle": "2022-11-05T19:53:19.597263Z",
     "shell.execute_reply": "2022-11-05T19:53:19.594938Z"
    },
    "papermill": {
     "duration": 0.04522,
     "end_time": "2022-11-05T19:53:19.600556",
     "exception": false,
     "start_time": "2022-11-05T19:53:19.555336",
     "status": "completed"
    },
    "tags": []
   },
   "outputs": [
    {
     "name": "stdout",
     "output_type": "stream",
     "text": [
      "<class 'pandas.core.frame.DataFrame'>\n",
      "RangeIndex: 1460 entries, 0 to 1459\n",
      "Data columns (total 81 columns):\n",
      " #   Column         Non-Null Count  Dtype  \n",
      "---  ------         --------------  -----  \n",
      " 0   Id             1460 non-null   int64  \n",
      " 1   MSSubClass     1460 non-null   int64  \n",
      " 2   MSZoning       1460 non-null   object \n",
      " 3   LotFrontage    1201 non-null   float64\n",
      " 4   LotArea        1460 non-null   int64  \n",
      " 5   Street         1460 non-null   object \n",
      " 6   Alley          91 non-null     object \n",
      " 7   LotShape       1460 non-null   object \n",
      " 8   LandContour    1460 non-null   object \n",
      " 9   Utilities      1460 non-null   object \n",
      " 10  LotConfig      1460 non-null   object \n",
      " 11  LandSlope      1460 non-null   object \n",
      " 12  Neighborhood   1460 non-null   object \n",
      " 13  Condition1     1460 non-null   object \n",
      " 14  Condition2     1460 non-null   object \n",
      " 15  BldgType       1460 non-null   object \n",
      " 16  HouseStyle     1460 non-null   object \n",
      " 17  OverallQual    1460 non-null   int64  \n",
      " 18  OverallCond    1460 non-null   int64  \n",
      " 19  YearBuilt      1460 non-null   int64  \n",
      " 20  YearRemodAdd   1460 non-null   int64  \n",
      " 21  RoofStyle      1460 non-null   object \n",
      " 22  RoofMatl       1460 non-null   object \n",
      " 23  Exterior1st    1460 non-null   object \n",
      " 24  Exterior2nd    1460 non-null   object \n",
      " 25  MasVnrType     1452 non-null   object \n",
      " 26  MasVnrArea     1452 non-null   float64\n",
      " 27  ExterQual      1460 non-null   object \n",
      " 28  ExterCond      1460 non-null   object \n",
      " 29  Foundation     1460 non-null   object \n",
      " 30  BsmtQual       1423 non-null   object \n",
      " 31  BsmtCond       1423 non-null   object \n",
      " 32  BsmtExposure   1422 non-null   object \n",
      " 33  BsmtFinType1   1423 non-null   object \n",
      " 34  BsmtFinSF1     1460 non-null   int64  \n",
      " 35  BsmtFinType2   1422 non-null   object \n",
      " 36  BsmtFinSF2     1460 non-null   int64  \n",
      " 37  BsmtUnfSF      1460 non-null   int64  \n",
      " 38  TotalBsmtSF    1460 non-null   int64  \n",
      " 39  Heating        1460 non-null   object \n",
      " 40  HeatingQC      1460 non-null   object \n",
      " 41  CentralAir     1460 non-null   object \n",
      " 42  Electrical     1459 non-null   object \n",
      " 43  1stFlrSF       1460 non-null   int64  \n",
      " 44  2ndFlrSF       1460 non-null   int64  \n",
      " 45  LowQualFinSF   1460 non-null   int64  \n",
      " 46  GrLivArea      1460 non-null   int64  \n",
      " 47  BsmtFullBath   1460 non-null   int64  \n",
      " 48  BsmtHalfBath   1460 non-null   int64  \n",
      " 49  FullBath       1460 non-null   int64  \n",
      " 50  HalfBath       1460 non-null   int64  \n",
      " 51  BedroomAbvGr   1460 non-null   int64  \n",
      " 52  KitchenAbvGr   1460 non-null   int64  \n",
      " 53  KitchenQual    1460 non-null   object \n",
      " 54  TotRmsAbvGrd   1460 non-null   int64  \n",
      " 55  Functional     1460 non-null   object \n",
      " 56  Fireplaces     1460 non-null   int64  \n",
      " 57  FireplaceQu    770 non-null    object \n",
      " 58  GarageType     1379 non-null   object \n",
      " 59  GarageYrBlt    1379 non-null   float64\n",
      " 60  GarageFinish   1379 non-null   object \n",
      " 61  GarageCars     1460 non-null   int64  \n",
      " 62  GarageArea     1460 non-null   int64  \n",
      " 63  GarageQual     1379 non-null   object \n",
      " 64  GarageCond     1379 non-null   object \n",
      " 65  PavedDrive     1460 non-null   object \n",
      " 66  WoodDeckSF     1460 non-null   int64  \n",
      " 67  OpenPorchSF    1460 non-null   int64  \n",
      " 68  EnclosedPorch  1460 non-null   int64  \n",
      " 69  3SsnPorch      1460 non-null   int64  \n",
      " 70  ScreenPorch    1460 non-null   int64  \n",
      " 71  PoolArea       1460 non-null   int64  \n",
      " 72  PoolQC         7 non-null      object \n",
      " 73  Fence          281 non-null    object \n",
      " 74  MiscFeature    54 non-null     object \n",
      " 75  MiscVal        1460 non-null   int64  \n",
      " 76  MoSold         1460 non-null   int64  \n",
      " 77  YrSold         1460 non-null   int64  \n",
      " 78  SaleType       1460 non-null   object \n",
      " 79  SaleCondition  1460 non-null   object \n",
      " 80  SalePrice      1460 non-null   int64  \n",
      "dtypes: float64(3), int64(35), object(43)\n",
      "memory usage: 924.0+ KB\n"
     ]
    }
   ],
   "source": [
    "htrain.info()"
   ]
  },
  {
   "cell_type": "markdown",
   "id": "b1dd550c",
   "metadata": {
    "papermill": {
     "duration": 0.004667,
     "end_time": "2022-11-05T19:53:19.610744",
     "exception": false,
     "start_time": "2022-11-05T19:53:19.606077",
     "status": "completed"
    },
    "tags": []
   },
   "source": [
    "We have missing values for `LotFrontage`, `Alley`, `MasVnrType`, `MasVnrArea`, `BsmtQual`, `BsmtCond`, `BsmtExposure`, `BsmtFinType1`, `BsmtFinType2`, `Electrical`, `FireplaceQu`, `GarageType`, `GarageYrBlt`, `GarageFinish`, `GarageQual`, `GarageCond`, `PoolQC`, `Fence`, and `MiscFeature`."
   ]
  },
  {
   "cell_type": "code",
   "execution_count": 5,
   "id": "fec7775b",
   "metadata": {
    "execution": {
     "iopub.execute_input": "2022-11-05T19:53:19.622396Z",
     "iopub.status.busy": "2022-11-05T19:53:19.621968Z",
     "iopub.status.idle": "2022-11-05T19:53:19.644607Z",
     "shell.execute_reply": "2022-11-05T19:53:19.643449Z"
    },
    "papermill": {
     "duration": 0.03125,
     "end_time": "2022-11-05T19:53:19.647071",
     "exception": false,
     "start_time": "2022-11-05T19:53:19.615821",
     "status": "completed"
    },
    "tags": []
   },
   "outputs": [
    {
     "data": {
      "text/html": [
       "<div>\n",
       "<style scoped>\n",
       "    .dataframe tbody tr th:only-of-type {\n",
       "        vertical-align: middle;\n",
       "    }\n",
       "\n",
       "    .dataframe tbody tr th {\n",
       "        vertical-align: top;\n",
       "    }\n",
       "\n",
       "    .dataframe thead th {\n",
       "        text-align: right;\n",
       "    }\n",
       "</style>\n",
       "<table border=\"1\" class=\"dataframe\">\n",
       "  <thead>\n",
       "    <tr style=\"text-align: right;\">\n",
       "      <th></th>\n",
       "      <th>Id</th>\n",
       "      <th>MSSubClass</th>\n",
       "      <th>MSZoning</th>\n",
       "      <th>LotFrontage</th>\n",
       "      <th>LotArea</th>\n",
       "      <th>Street</th>\n",
       "      <th>Alley</th>\n",
       "      <th>LotShape</th>\n",
       "      <th>LandContour</th>\n",
       "      <th>Utilities</th>\n",
       "      <th>...</th>\n",
       "      <th>PoolArea</th>\n",
       "      <th>PoolQC</th>\n",
       "      <th>Fence</th>\n",
       "      <th>MiscFeature</th>\n",
       "      <th>MiscVal</th>\n",
       "      <th>MoSold</th>\n",
       "      <th>YrSold</th>\n",
       "      <th>SaleType</th>\n",
       "      <th>SaleCondition</th>\n",
       "      <th>SalePrice</th>\n",
       "    </tr>\n",
       "  </thead>\n",
       "  <tbody>\n",
       "  </tbody>\n",
       "</table>\n",
       "<p>0 rows × 81 columns</p>\n",
       "</div>"
      ],
      "text/plain": [
       "Empty DataFrame\n",
       "Columns: [Id, MSSubClass, MSZoning, LotFrontage, LotArea, Street, Alley, LotShape, LandContour, Utilities, LotConfig, LandSlope, Neighborhood, Condition1, Condition2, BldgType, HouseStyle, OverallQual, OverallCond, YearBuilt, YearRemodAdd, RoofStyle, RoofMatl, Exterior1st, Exterior2nd, MasVnrType, MasVnrArea, ExterQual, ExterCond, Foundation, BsmtQual, BsmtCond, BsmtExposure, BsmtFinType1, BsmtFinSF1, BsmtFinType2, BsmtFinSF2, BsmtUnfSF, TotalBsmtSF, Heating, HeatingQC, CentralAir, Electrical, 1stFlrSF, 2ndFlrSF, LowQualFinSF, GrLivArea, BsmtFullBath, BsmtHalfBath, FullBath, HalfBath, BedroomAbvGr, KitchenAbvGr, KitchenQual, TotRmsAbvGrd, Functional, Fireplaces, FireplaceQu, GarageType, GarageYrBlt, GarageFinish, GarageCars, GarageArea, GarageQual, GarageCond, PavedDrive, WoodDeckSF, OpenPorchSF, EnclosedPorch, 3SsnPorch, ScreenPorch, PoolArea, PoolQC, Fence, MiscFeature, MiscVal, MoSold, YrSold, SaleType, SaleCondition, SalePrice]\n",
       "Index: []\n",
       "\n",
       "[0 rows x 81 columns]"
      ]
     },
     "execution_count": 5,
     "metadata": {},
     "output_type": "execute_result"
    }
   ],
   "source": [
    "# version of the data set with missing values removed\n",
    "htrain.dropna()"
   ]
  },
  {
   "cell_type": "markdown",
   "id": "eda432db",
   "metadata": {
    "papermill": {
     "duration": 0.004842,
     "end_time": "2022-11-05T19:53:19.657137",
     "exception": false,
     "start_time": "2022-11-05T19:53:19.652295",
     "status": "completed"
    },
    "tags": []
   },
   "source": [
    "Bad idea."
   ]
  },
  {
   "cell_type": "markdown",
   "id": "e5ccd5da",
   "metadata": {
    "papermill": {
     "duration": 0.004731,
     "end_time": "2022-11-05T19:53:19.666958",
     "exception": false,
     "start_time": "2022-11-05T19:53:19.662227",
     "status": "completed"
    },
    "tags": []
   },
   "source": [
    "We need to look at variable type and classify them as 'numerical' or 'categorical.'\n",
    "I will follow Kaggle tutorial for the rest of the notebook."
   ]
  },
  {
   "cell_type": "code",
   "execution_count": 6,
   "id": "5ad93630",
   "metadata": {
    "execution": {
     "iopub.execute_input": "2022-11-05T19:53:19.678821Z",
     "iopub.status.busy": "2022-11-05T19:53:19.678437Z",
     "iopub.status.idle": "2022-11-05T19:53:19.690903Z",
     "shell.execute_reply": "2022-11-05T19:53:19.689856Z"
    },
    "papermill": {
     "duration": 0.02105,
     "end_time": "2022-11-05T19:53:19.693097",
     "exception": false,
     "start_time": "2022-11-05T19:53:19.672047",
     "status": "completed"
    },
    "tags": []
   },
   "outputs": [
    {
     "data": {
      "text/plain": [
       "count      1460.000000\n",
       "mean     180921.195890\n",
       "std       79442.502883\n",
       "min       34900.000000\n",
       "25%      129975.000000\n",
       "50%      163000.000000\n",
       "75%      214000.000000\n",
       "max      755000.000000\n",
       "Name: SalePrice, dtype: float64"
      ]
     },
     "execution_count": 6,
     "metadata": {},
     "output_type": "execute_result"
    }
   ],
   "source": [
    "# analysing SalePrice\n",
    "htrain['SalePrice'].describe()"
   ]
  },
  {
   "cell_type": "code",
   "execution_count": 7,
   "id": "5fa7b20a",
   "metadata": {
    "execution": {
     "iopub.execute_input": "2022-11-05T19:53:19.705644Z",
     "iopub.status.busy": "2022-11-05T19:53:19.705203Z",
     "iopub.status.idle": "2022-11-05T19:53:20.125010Z",
     "shell.execute_reply": "2022-11-05T19:53:20.122171Z"
    },
    "papermill": {
     "duration": 0.429648,
     "end_time": "2022-11-05T19:53:20.128116",
     "exception": false,
     "start_time": "2022-11-05T19:53:19.698468",
     "status": "completed"
    },
    "tags": []
   },
   "outputs": [
    {
     "data": {
      "text/plain": [
       "<AxesSubplot:xlabel='SalePrice', ylabel='Density'>"
      ]
     },
     "execution_count": 7,
     "metadata": {},
     "output_type": "execute_result"
    },
    {
     "data": {
      "image/png": "[encoded data removed]",
      "text/plain": [
       "<Figure size 432x288 with 1 Axes>"
      ]
     },
     "metadata": {},
     "output_type": "display_data"
    }
   ],
   "source": [
    "# visualizing the above distribution\n",
    "sns.histplot(\n",
    "    htrain['SalePrice'], kde=True,\n",
    "    stat=\"density\", kde_kws=dict(cut=3)\n",
    ")"
   ]
  },
  {
   "cell_type": "code",
   "execution_count": 8,
   "id": "01c657c0",
   "metadata": {
    "execution": {
     "iopub.execute_input": "2022-11-05T19:53:20.142173Z",
     "iopub.status.busy": "2022-11-05T19:53:20.141757Z",
     "iopub.status.idle": "2022-11-05T19:53:20.149696Z",
     "shell.execute_reply": "2022-11-05T19:53:20.148438Z"
    },
    "papermill": {
     "duration": 0.01782,
     "end_time": "2022-11-05T19:53:20.152105",
     "exception": false,
     "start_time": "2022-11-05T19:53:20.134285",
     "status": "completed"
    },
    "tags": []
   },
   "outputs": [
    {
     "name": "stdout",
     "output_type": "stream",
     "text": [
      "Skewness: 1.882876\n",
      "Kurtosis: 6.536282\n"
     ]
    }
   ],
   "source": [
    "# We can look at its deviation from standard normal distribution.\n",
    "# skewness (lack of symmetry) and excess kurtosis (heavy/light tailed)\n",
    "print(\"Skewness: %f\" % htrain['SalePrice'].skew())\n",
    "print(\"Kurtosis: %f\" % htrain['SalePrice'].kurt())"
   ]
  },
  {
   "cell_type": "markdown",
   "id": "887152ae",
   "metadata": {
    "papermill": {
     "duration": 0.005908,
     "end_time": "2022-11-05T19:53:20.163902",
     "exception": false,
     "start_time": "2022-11-05T19:53:20.157994",
     "status": "completed"
    },
    "tags": []
   },
   "source": [
    "Positive values for the skewness indicate data that are skewed right. That is, the right tail is longer than the left tail. \n",
    "\n",
    "Positive values of excess kurtosis indicate that its tails are longer and fatter, and often its central peak is higher and sharper, as compared with standard normal."
   ]
  },
  {
   "cell_type": "code",
   "execution_count": 9,
   "id": "ad91185e",
   "metadata": {
    "execution": {
     "iopub.execute_input": "2022-11-05T19:53:20.178149Z",
     "iopub.status.busy": "2022-11-05T19:53:20.177111Z",
     "iopub.status.idle": "2022-11-05T19:53:20.665880Z",
     "shell.execute_reply": "2022-11-05T19:53:20.664864Z"
    },
    "papermill": {
     "duration": 0.498375,
     "end_time": "2022-11-05T19:53:20.668216",
     "exception": false,
     "start_time": "2022-11-05T19:53:20.169841",
     "status": "completed"
    },
    "tags": []
   },
   "outputs": [
    {
     "data": {
      "image/png": "[encoded data removed]",
      "text/plain": [
       "<Figure size 432x288 with 1 Axes>"
      ]
     },
     "metadata": {},
     "output_type": "display_data"
    },
    {
     "data": {
      "image/png": "[encoded data removed]",
      "text/plain": [
       "<Figure size 432x288 with 1 Axes>"
      ]
     },
     "metadata": {},
     "output_type": "display_data"
    }
   ],
   "source": [
    "# Next we look at numerical variables GrLivArea and TotalBsmtSF\n",
    "for var in ['GrLivArea', 'TotalBsmtSF']:\n",
    "    data = pd.concat([htrain['SalePrice'], htrain[var]], axis=1)\n",
    "    data.plot.scatter(x=var, y='SalePrice', ylim=(0,800000))"
   ]
  },
  {
   "cell_type": "markdown",
   "id": "e4f720e2",
   "metadata": {
    "papermill": {
     "duration": 0.006235,
     "end_time": "2022-11-05T19:53:20.681106",
     "exception": false,
     "start_time": "2022-11-05T19:53:20.674871",
     "status": "completed"
    },
    "tags": []
   },
   "source": [
    "`SalePrice` and `GrLivArea` seem to have linear relation.\n",
    "\n",
    "`SalePrice` and `TotalBsmtSF` seem to have high solpe, if linear relation.\n",
    "\n",
    "However, both relationships are positive, which means that as one variable increases, the other also increases. "
   ]
  },
  {
   "cell_type": "code",
   "execution_count": 10,
   "id": "127ad4a5",
   "metadata": {
    "execution": {
     "iopub.execute_input": "2022-11-05T19:53:20.697264Z",
     "iopub.status.busy": "2022-11-05T19:53:20.696869Z",
     "iopub.status.idle": "2022-11-05T19:53:25.349039Z",
     "shell.execute_reply": "2022-11-05T19:53:25.347864Z"
    },
    "papermill": {
     "duration": 4.664264,
     "end_time": "2022-11-05T19:53:25.351925",
     "exception": false,
     "start_time": "2022-11-05T19:53:20.687661",
     "status": "completed"
    },
    "tags": []
   },
   "outputs": [
    {
     "data": {
      "image/png": "[encoded data removed]",
      "text/plain": [
       "<Figure size 1152x432 with 1 Axes>"
      ]
     },
     "metadata": {},
     "output_type": "display_data"
    },
    {
     "data": {
      "image/png": "[encoded data removed]",
      "text/plain": [
       "<Figure size 1152x432 with 1 Axes>"
      ]
     },
     "metadata": {},
     "output_type": "display_data"
    }
   ],
   "source": [
    "# Next we look at categorical variables OverallQual and YearBuilt\n",
    "for var in ['OverallQual', 'YearBuilt']:\n",
    "    data = pd.concat([htrain['SalePrice'], htrain[var]], axis=1)\n",
    "    f, ax = plt.subplots(figsize=(16, 6))\n",
    "    fig = sns.boxplot(x=var, y=\"SalePrice\", data=data)\n",
    "    fig.axis(ymin=0, ymax=800000);"
   ]
  },
  {
   "cell_type": "markdown",
   "id": "c229e01a",
   "metadata": {
    "papermill": {
     "duration": 0.00764,
     "end_time": "2022-11-05T19:53:25.368337",
     "exception": false,
     "start_time": "2022-11-05T19:53:25.360697",
     "status": "completed"
    },
    "tags": []
   },
   "source": [
    "It appears that `SalePrice` is in constant prices. That is, the effect of inflation is removed so than prices are comparable over the years.\n",
    "\n",
    "The relationship seems to be stronger in the case of `OverallQual`, where the box plot shows how sales prices increase with the overall quality."
   ]
  },
  {
   "cell_type": "code",
   "execution_count": null,
   "id": "1ca222e5",
   "metadata": {
    "papermill": {
     "duration": 0.007574,
     "end_time": "2022-11-05T19:53:25.383825",
     "exception": false,
     "start_time": "2022-11-05T19:53:25.376251",
     "status": "completed"
    },
    "tags": []
   },
   "outputs": [],
   "source": []
  }
 ],
 "metadata": {
  "kernelspec": {
   "display_name": "Python 3",
   "language": "python",
   "name": "python3"
  },
  "language_info": {
   "codemirror_mode": {
    "name": "ipython",
    "version": 3
   },
   "file_extension": ".py",
   "mimetype": "text/x-python",
   "name": "python",
   "nbconvert_exporter": "python",
   "pygments_lexer": "ipython3",
   "version": "3.7.12"
  },
  "papermill": {
   "default_parameters": {},
   "duration": 17.195503,
   "end_time": "2022-11-05T19:53:26.215493",
   "environment_variables": {},
   "exception": null,
   "input_path": "__notebook__.ipynb",
   "output_path": "__notebook__.ipynb",
   "parameters": {},
   "start_time": "2022-11-05T19:53:09.019990",
   "version": "2.3.4"
  }
 },
 "nbformat": 4,
 "nbformat_minor": 5
}
